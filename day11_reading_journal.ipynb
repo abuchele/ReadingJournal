{
 "cells": [
  {
   "cell_type": "markdown",
   "metadata": {},
   "source": [
    "# Day 11 Reading Journal\n",
    "\n",
    "This journal includes several required exercises, but it is meant to encourage active reading more generally.  You should use the journal to take detailed notes, catalog questions, and explore the content from Think Python deeply.\n",
    "\n",
    "Reading: Review Think Python Chapters 15-17\n",
    "\n",
    "**Due: Monday, February 29 at 12 noon**\n",
    "\n"
   ]
  },
  {
   "cell_type": "markdown",
   "metadata": {},
   "source": [
    "## [Chapter 15](http://www.greenteapress.com/thinkpython/html/thinkpython016.html), [Chapter 16](http://www.greenteapress.com/thinkpython/html/thinkpython017.html), [Chapter 17](http://www.greenteapress.com/thinkpython/html/thinkpython018.html)\n",
    "\n",
    "\n",
    "By the end of chapter 17, we have all the tools we need to create our own user-defined types known as classes. In this reading journal, we're asking you to review and solidify your understanding of this material so we can build on it for the rest of the course. \n",
    "\n",
    "If you didn't get a chance to fully complete the Day 10 reading journal, you may want to do so now."
   ]
  },
  {
   "cell_type": "markdown",
   "metadata": {
    "problem": "Terminology"
   },
   "source": [
    "### Terminology\n",
    "\n",
    "You should be familiar with the following list of terms and concepts. If any of them are unclear to you, re-read, ask, write a definition in your own words, and try an example if appropriate.\n",
    "\n",
    " - class\n",
    " - object\n",
    " - instance\n",
    " - attribute\n",
    " - method\n",
    " - shallow vs deep copying\n",
    " - pure functions vs modifiers\n",
    " - initializing object instances\n",
    " "
   ]
  },
  {
   "cell_type": "markdown",
   "metadata": {
    "is_question": true,
    "problem": "Exercise 1"
   },
   "source": [
    "### Exercise\n",
    "\n",
    "We're going to take the first steps toward writing a calendar application. To keep things simple, we'll restrict ourselves to a single day for now. Write an `Event` class with the following attributes:\n",
    "\n",
    " - `name`  : Title for the `Event`\n",
    " - `start` : `Time` object representing the start time for the `Event`\n",
    " - `end`   : `Time` object representing the end time for the `Event`\n",
    "\n",
    "You can also augment your `Event` class with additional attributes, such as location and attendees.\n",
    "\n",
    "Write `__init__` and `__str__` methods for your `Event` class."
   ]
  },
  {
   "cell_type": "code",
   "execution_count": 19,
   "metadata": {
    "collapsed": false,
    "solution": "Exercise 1"
   },
   "outputs": [
    {
     "name": "stdout",
     "output_type": "stream",
     "text": [
      "party begins at 03:45 and ends at 06:00\n"
     ]
    }
   ],
   "source": [
    "class Time(object):\n",
    "    def __init__(self, hour=0,minute=0,second=0):\n",
    "        self.hour=hour\n",
    "        self.minute=minute\n",
    "        self.second=second\n",
    "    def __str__(self):\n",
    "        if self.second == 0:\n",
    "            s = (\"%.2d:%.2d\") % (self.hour,self.minute)\n",
    "        else:\n",
    "            s = (\"%.2d:%.2d:%.2d\") % (self.hour,self.minute,self.second)\n",
    "        return s\n",
    "\n",
    "class Event(object):\n",
    "    def __init__(self,name,start,end):\n",
    "        self.name = name\n",
    "        self.start = start\n",
    "        self.end = end\n",
    "    def __str__(self):\n",
    "        s= (\"%s begins at %s and ends at %s\") % (self.name, self.start, self.end)\n",
    "        return s\n",
    "\n",
    "starttime= Time(3,45,0)\n",
    "endtime = Time(6)\n",
    "\n",
    "event = Event(\"party\", starttime,endtime)\n",
    "print event"
   ]
  },
  {
   "cell_type": "markdown",
   "metadata": {
    "is_question": true,
    "problem": "Exercise 2"
   },
   "source": [
    "### Exercise\n",
    "\n",
    "Write a `duration` method that returns the duration of the `Event` in minutes."
   ]
  },
  {
   "cell_type": "code",
   "execution_count": 22,
   "metadata": {
    "collapsed": false,
    "solution": "Exercise 2"
   },
   "outputs": [
    {
     "name": "stdout",
     "output_type": "stream",
     "text": [
      "party begins at 07:45 and ends at 06:00\n",
      "-105\n"
     ]
    }
   ],
   "source": [
    "class Time(object):\n",
    "    def __init__(self, hour=0,minute=0,second=0):\n",
    "        self.hour=hour\n",
    "        self.minute=minute\n",
    "        self.second=second\n",
    "    def __str__(self):\n",
    "        if self.second == 0:\n",
    "            s = (\"%.2d:%.2d\") % (self.hour,self.minute)\n",
    "        else:\n",
    "            s = (\"%.2d:%.2d:%.2d\") % (self.hour,self.minute,self.second)\n",
    "        return s\n",
    "\n",
    "class Event(object):\n",
    "    def __init__(self,name,start,end):\n",
    "        self.name = name\n",
    "        self.start = start\n",
    "        self.end = end\n",
    "    def __str__(self):\n",
    "        s= (\"%s begins at %s and ends at %s\") % (self.name, self.start, self.end)\n",
    "        return s\n",
    "    def duration(self):\n",
    "        start = self.start\n",
    "        end = self.end\n",
    "        starthr= start.hour\n",
    "        startmin=start.minute\n",
    "        endhr=end.hour\n",
    "        endmin=end.minute\n",
    "        diffhr= endhr - starthr\n",
    "        diffmin = endmin-startmin\n",
    "        duration = (diffhr * 60) + diffmin\n",
    "        return duration\n",
    "\n",
    "starttime= Time(7,45,0)\n",
    "endtime = Time(6)\n",
    "\n",
    "event = Event(\"party\", starttime,endtime)\n",
    "print event\n",
    "print event.duration()"
   ]
  },
  {
   "cell_type": "markdown",
   "metadata": {
    "is_question": true,
    "problem": "Exercise 3"
   },
   "source": [
    "### Exercise\n",
    "\n",
    "Write an `Agenda` class that contains several `Event`s for the day.\n",
    "\n",
    "**Quick check: ** How should you store `Event`s within your `Agenda` class?\n",
    "\n",
    "Your `Agenda` class should include a `print_agenda` method that prints out your schedule for the day, in order.\n",
    "\n",
    "**Optional:** Include a `is_feasible` method that returns `True` if your schedule has no time conflicts. You may want to write additional helper methods for the `Event` class to make this easier."
   ]
  },
  {
   "cell_type": "code",
   "execution_count": 62,
   "metadata": {
    "collapsed": false,
    "solution": "Exercise 3"
   },
   "outputs": [
    {
     "data": {
      "text/plain": [
       "\"Today's events are:   brunch with Elenore- begins at 12:45 and ends at 15:15      fancy dinner- begins at 16:30 and ends at 19:30      party at mansion- begins at 20:45 and ends at 24:00   \""
      ]
     },
     "execution_count": 62,
     "metadata": {},
     "output_type": "execute_result"
    }
   ],
   "source": [
    "class Time(object):\n",
    "    def __init__(self, hour=0,minute=0,second=0):\n",
    "        self.hour=hour\n",
    "        self.minute=minute\n",
    "        self.second=second\n",
    "    def __str__(self):\n",
    "        if self.second == 0:\n",
    "            s = (\"%.2d:%.2d\") % (self.hour,self.minute)\n",
    "        else:\n",
    "            s = (\"%.2d:%.2d:%.2d\") % (self.hour,self.minute,self.second)\n",
    "        return s\n",
    "\n",
    "class Event(object):\n",
    "    def __init__(self,name,start,end):\n",
    "        self.name = name\n",
    "        self.start = start\n",
    "        self.end = end\n",
    "    def __str__(self):\n",
    "        s= (\"   %s- begins at %s and ends at %s   \") % (self.name, self.start, self.end)\n",
    "        return s\n",
    "    def duration(self):\n",
    "        start = self.start\n",
    "        end = self.end\n",
    "        starthr= start.hour\n",
    "        startmin=start.minute\n",
    "        endhr=end.hour\n",
    "        endmin=end.minute\n",
    "        diffhr= endhr - starthr\n",
    "        diffmin = endmin-startmin\n",
    "        duration = (diffhr * 60) + diffmin\n",
    "        return duration\n",
    "\n",
    "class Agenda(object):\n",
    "    def __init__(self,events=[]):\n",
    "        self.events=events\n",
    "    def __str__(self):\n",
    "        s = (\"Today's events are:\")\n",
    "        for x in range (len(self.events)):\n",
    "            s = s + str(self.events[x])\n",
    "        return s\n",
    "    def add_event(self,event):\n",
    "        events = self.events\n",
    "        events+=[event]\n",
    "        return events\n",
    "    def print_agenda(self):\n",
    "        startminutes = {}\n",
    "        for x in range(len(self.events)):\n",
    "            events=self.events\n",
    "            event=events[x]\n",
    "            start=event.start\n",
    "            hr=start.hour\n",
    "            mi=start.minute\n",
    "            startminutes[event]= 60*hr + mi\n",
    "        a= sorted(startminutes,key=startminutes.get,reverse=False)\n",
    "        s = \"Today's events are:\"\n",
    "        for x in range (len(a)):\n",
    "            s = (s + \n",
    "                str(a[x]) )\n",
    "        return s\n",
    "            \n",
    "starttime= Time(20,45,0)\n",
    "endtime = Time(24)\n",
    "start1=Time(16,30)\n",
    "end1=Time(19,30)\n",
    "start2=Time(12,45)\n",
    "end2=Time(15,15)\n",
    "event = Event(\"party at mansion\", starttime,endtime)\n",
    "event1= Event(\"fancy dinner\",start1,end1)\n",
    "event2= Event(\"brunch with Elenore\",start2,end2)\n",
    "\n",
    "fancy=Agenda()\n",
    "fancy.add_event(event)\n",
    "fancy.add_event(event1)\n",
    "fancy.add_event(event2)\n",
    "fancy.print_agenda()\n"
   ]
  },
  {
   "cell_type": "markdown",
   "metadata": {
    "is_question": true,
    "problem": "Exercise 4"
   },
   "source": [
    "### Going Beyond (optional)\n",
    "\n",
    "Some ideas for taking your application further:\n",
    " - Add people and/or places to the mix to create a scheduling assistant\n",
    " - Extend support for day-of-week or full date. A word of warning: dealing with dates and times in real applications is difficult due to the huge number of special cases (Perfect example: this reading journal is due on Leap Day). Consider using something like the Python [datetime](https://docs.python.org/2/library/datetime.html) module.\n",
    " - Use pickle or some other persistence strategy to save and load your `Agenda`."
   ]
  },
  {
   "cell_type": "code",
   "execution_count": null,
   "metadata": {
    "collapsed": true,
    "solution": "Exercise 4"
   },
   "outputs": [],
   "source": []
  },
  {
   "cell_type": "markdown",
   "metadata": {
    "is_poll": true,
    "is_question": true,
    "problem": "Time spent"
   },
   "source": [
    "## Quick poll\n",
    "About how long did you spend working on this Reading Journal?"
   ]
  },
  {
   "cell_type": "markdown",
   "metadata": {
    "poll_response": true,
    "solution": "Time spent"
   },
   "source": [
    "about 2 hour "
   ]
  },
  {
   "cell_type": "markdown",
   "metadata": {
    "is_question": true,
    "problem": "Feedback"
   },
   "source": [
    "## Reading Journal feedback\n",
    "\n",
    "Have any comments on this Reading Journal? Feel free to leave them below and we'll read them when you submit your journal entry. This could include suggestions to improve the exercises, topics you'd like to see covered in class next time, or other feedback.\n",
    "\n",
    "If you have Python questions or run into problems while completing the reading, you should post them to Piazza instead so you can get a quick response before your journal is submitted."
   ]
  },
  {
   "cell_type": "markdown",
   "metadata": {
    "feedback_response": true,
    "solution": "Feedback"
   },
   "source": [
    " "
   ]
  }
 ],
 "metadata": {
  "celltoolbar": "Edit Metadata",
  "kernelspec": {
   "display_name": "Python 2",
   "language": "python",
   "name": "python2"
  },
  "language_info": {
   "codemirror_mode": {
    "name": "ipython",
    "version": 2
   },
   "file_extension": ".py",
   "mimetype": "text/x-python",
   "name": "python",
   "nbconvert_exporter": "python",
   "pygments_lexer": "ipython2",
   "version": "2.7.6"
  }
 },
 "nbformat": 4,
 "nbformat_minor": 0
}
