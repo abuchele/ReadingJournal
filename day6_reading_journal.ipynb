{
 "cells": [
  {
   "cell_type": "markdown",
   "metadata": {},
   "source": [
    "# Day 6 Reading Journal\n",
    "\n",
    "This journal includes several required exercises, but it is meant to encourage active reading more generally.  You should use the journal to take detailed notes, catalog questions, and explore the content from Think Python deeply.\n",
    "\n",
    "Reading: Think Python Chapter 5.8-5.14, 6.5-6.11\n",
    "\n",
    "**Due: Thursday, February 11 at 12 noon**\n",
    "\n"
   ]
  },
  {
   "cell_type": "markdown",
   "metadata": {},
   "source": [
    "## [Chapter 5.8 - 5.14](http://www.greenteapress.com/thinkpython/html/thinkpython006.html)\n",
    "\n",
    "[Python Tutor](http://pythontutor.com/) can be helpful for visualizing stack diagrams, including for recursive execution.\n",
    "\n",
    "Chapter 5 leads into Chapter 6, and all the required exercises for this reading are in the Chapter 6 section.\n",
    "\n"
   ]
  },
  {
   "cell_type": "markdown",
   "metadata": {},
   "source": [
    "## [Chapter 6.5 - 6.11](http://www.greenteapress.com/thinkpython/html/thinkpython007.html)"
   ]
  },
  {
   "cell_type": "markdown",
   "metadata": {
    "is_question": true,
    "problem": "Exercise 6.4"
   },
   "source": [
    "### Exercise 4  \n",
    "\n",
    "Draw a stack diagram for the following program. What does the program print? \n",
    "\n",
    "You can do this on paper, using [Python Tutor](http://pythontutor.com/), or with [Lumpy](http://www.greenteapress.com/thinkpython/swampy/) as used in [Allen's solution](http://thinkpython.com/code/stack_diagram.py)."
   ]
  },
  {
   "cell_type": "code",
   "execution_count": 1,
   "metadata": {
    "collapsed": false,
    "solution": "Exercise 6.4"
   },
   "outputs": [
    {
     "name": "stdout",
     "output_type": "stream",
     "text": [
      "9 90\n",
      "8100\n",
      "It prints 9 90 and then 8100\n"
     ]
    }
   ],
   "source": [
    "def b(z):\n",
    "    prod = a(z, z)\n",
    "    print z, prod\n",
    "    return prod\n",
    "\n",
    "def a(x, y):\n",
    "    x = x + 1\n",
    "    return x * y\n",
    "\n",
    "def c(x, y, z):\n",
    "    total = x + y + z\n",
    "    square = b(total)**2\n",
    "    return square\n",
    "\n",
    "x = 1\n",
    "y = x + 1\n",
    "print c(x, y+3, x+y)\n",
    "\n",
    "#http://pythontutor.com/visualize.html#code=def+b(z%29%3A%0A++++prod+%3D+a(z,+z%29%0A++++print+z,+prod%0A++++return+prod%0Adef+a(x,+y%29%3A%0A++++x+%3D+x+%2B+1%0A++++return+x+*+y%0A%0Adef+c(x,+y,+z%29%3A%0A++++total+%3D+x+%2B+y+%2B+z%0A++++square+%3D+b(total%29**2%0A++++return+square%0A%0Ax+%3D+1%0Ay+%3D+x+%2B+1%0Aprint+c(x,+y%2B3,+x%2By%29&mode=display&origin=opt-frontend.js&cumulative=false&heapPrimitives=false&textReferences=false&py=2&rawInputLstJSON=%5B%5D&curInstr=20\n",
    "\n",
    "print 'It prints 9 90 and then 8100'"
   ]
  },
  {
   "cell_type": "markdown",
   "metadata": {
    "is_question": true,
    "problem": "Exercise 6.6"
   },
   "source": [
    "### Exercise 6  \n",
    "\n",
    "A palindrome is a word that is spelled the same backward and forward, like “noon” and “redivider”. Recursively, a word is a palindrome if the first and last letters are the same and the middle is a palindrome.\n",
    "\n",
    "You can use the `first`, `last`, and `middle` helper functions defined in Think Python, or do the string slices inside your function directly. Be sure to think about your base cases.\n",
    "    \n",
    "Write a function called `is_palindrome` that takes a string argument and returns `True` if it is a palindrome and `False` otherwise. Remember that you can use the built-in function `len` to check the length of a string.\n",
    "\n",
    "Write some unit tests for your function (optionally using doctest) to show that it works as intended."
   ]
  },
  {
   "cell_type": "markdown",
   "metadata": {
    "is_question": true,
    "problem": "Exercise 6.6 challenge"
   },
   "source": [
    "### Challenge (optional)\n",
    "\n",
    "Use the word list from [Chapter 9.1](http://www.greenteapress.com/thinkpython/html/thinkpython010.html) Exercise 1 to find all of the palindromes."
   ]
  },
  {
   "cell_type": "code",
   "execution_count": 70,
   "metadata": {
    "collapsed": false,
    "solution": "Exercise 6.6"
   },
   "outputs": [
    {
     "name": "stdout",
     "output_type": "stream",
     "text": [
      "aa\n",
      "aba\n",
      "aga\n",
      "aha\n",
      "ala\n",
      "alula\n",
      "ama\n",
      "ana\n",
      "anna\n",
      "ava\n",
      "awa\n",
      "bib\n",
      "bob\n",
      "boob\n",
      "bub\n",
      "civic\n",
      "dad\n",
      "deed\n",
      "deified\n",
      "deked\n",
      "deled\n",
      "denned\n",
      "dewed\n",
      "did\n",
      "dud\n",
      "eke\n",
      "eme\n",
      "ere\n",
      "eve\n",
      "ewe\n",
      "eye\n",
      "gag\n",
      "gig\n",
      "hah\n",
      "halalah\n",
      "hallah\n",
      "huh\n",
      "kaiak\n",
      "kayak\n",
      "keek\n",
      "kook\n",
      "level\n",
      "madam\n",
      "marram\n",
      "mem\n",
      "mim\n",
      "minim\n",
      "mom\n",
      "mum\n",
      "noon\n",
      "nun\n",
      "oho\n",
      "otto\n",
      "pap\n",
      "peep\n",
      "pep\n",
      "pip\n",
      "poop\n",
      "pop\n",
      "pup\n",
      "radar\n",
      "redder\n",
      "refer\n",
      "reifier\n",
      "repaper\n",
      "reviver\n",
      "rotator\n",
      "rotor\n",
      "sagas\n",
      "sees\n",
      "selles\n",
      "sememes\n",
      "semes\n",
      "seres\n",
      "sexes\n",
      "shahs\n",
      "sis\n",
      "solos\n",
      "sos\n",
      "stets\n",
      "tat\n",
      "tenet\n",
      "terret\n",
      "tit\n",
      "toot\n",
      "tot\n",
      "tut\n",
      "vav\n",
      "waw\n",
      "wow\n",
      "yay\n"
     ]
    }
   ],
   "source": [
    "def is_palindrome(string):\n",
    "    '''Checks if a string is a palindrome, or a word that is spelled the same way backward and forward. \n",
    "        Input: string\n",
    "        Return: True if palindrome, False if not.\n",
    "    >>> is_palindrome('noon')\n",
    "    True\n",
    "    >>> is_palindrome('Noon')\n",
    "    True\n",
    "    >>> is_palindrome('A santa lived as a devil at NASA')\n",
    "    True\n",
    "    >>> is_palindrome('Do geese see god')\n",
    "    True\n",
    "    >>> is_palindrome('Will the real slim shady please stand up')\n",
    "    False'''\n",
    "    if type(' ') == type(string):\n",
    "        pass\n",
    "    else:\n",
    "        string=str(string)\n",
    "    string=string.lower()\n",
    "    string=string.replace(\" \",\"\")\n",
    "    length= len(string)\n",
    "    if length % 2 == 0:\n",
    "        if string[0]== string[length-1]:\n",
    "            for n in range (1,length):\n",
    "                if string[n] == string[length-n-1]:\n",
    "                    continue\n",
    "                else:\n",
    "                    return False\n",
    "            return True\n",
    "        return False\n",
    "    else:\n",
    "        oddlength=length-1\n",
    "        if string[0]==string[oddlength]:\n",
    "            for n in range (0, oddlength):\n",
    "                if string[n] == string[length-n-1]:\n",
    "                    continue\n",
    "                else:\n",
    "                    return False\n",
    "            return True\n",
    "        return False\n",
    "\n",
    "fin=open('words.txt')\n",
    "for line in fin:\n",
    "    word=line.strip()\n",
    "    if is_palindrome(word) == True:\n",
    "        print word\n",
    "\n",
    "\n",
    "        "
   ]
  },
  {
   "cell_type": "code",
   "execution_count": 85,
   "metadata": {
    "collapsed": false,
    "solution": "Exercise 6.6 challenge"
   },
   "outputs": [
    {
     "name": "stdout",
     "output_type": "stream",
     "text": [
      "3\n"
     ]
    }
   ],
   "source": [
    "print min(3,5)"
   ]
  },
  {
   "cell_type": "markdown",
   "metadata": {
    "is_question": true,
    "problem": "Exercise 6.7"
   },
   "source": [
    "### Exercise 7  \n",
    "\n",
    "A number `a` is a power of `b` if it is divisible by `b` and `a/b` is a power of `b`. Write a function called `is_power` that takes parameters `a` and `b` and returns `True` if `a` is a power of `b`. Note: you will have to think about the base case."
   ]
  },
  {
   "cell_type": "code",
   "execution_count": 76,
   "metadata": {
    "collapsed": false,
    "solution": "Exercise 6.7"
   },
   "outputs": [],
   "source": [
    "'''A number a is a power of b if it is divisible by b and a/b is a power of b. \n",
    "    Takes parameters a and b. \n",
    "    Returns True if a is a power of b.\n",
    "    >>> is_power(8,2)\n",
    "    True\n",
    "    >>> is_power(1,1)\n",
    "    True\n",
    "    >>> is_power(0,0)\n",
    "    True\n",
    "    >>> is_power(2,5)\n",
    "    False\n",
    "    >>> is_power(6,0)\n",
    "    False\n",
    "    >>> is_power(768,4)\n",
    "    False'''\n",
    "\n",
    "def is_power(a,b):\n",
    "    if b == 0:\n",
    "        if a==0:\n",
    "            return True\n",
    "        else:\n",
    "            return False\n",
    "    elif a % b == 0:\n",
    "        if (a/b) % b ==0:\n",
    "            div= a/b\n",
    "            while div > 1:\n",
    "                div= div/b\n",
    "            if div == 1:\n",
    "                return True\n",
    "            else:\n",
    "                return False\n",
    "        else:\n",
    "            return False\n",
    "    else:\n",
    "        return False\n",
    "    \n",
    "    \n",
    "    \n",
    "if __name__ == \"__main__\":\n",
    "    import doctest\n",
    "    doctest.testmod()"
   ]
  },
  {
   "cell_type": "markdown",
   "metadata": {
    "is_question": true,
    "problem": "Exercise 6.8"
   },
   "source": [
    "### Challenge (optional) - Exercise 8  \n",
    "\n",
    "The greatest common divisor (GCD) of `a` and `b` is the largest number that divides both of them with no remainder.\n",
    "\n",
    "One way to find the GCD of two numbers is based on the observation that if `r` is the remainder when `a` is divided by `b`, then `gcd(a, b) = gcd(b, r)`. As a base case, we can use `gcd(a, 0) = a`.\n",
    "\n",
    "Write a function called `gcd` that takes parameters `a` and `b` and returns their greatest common divisor."
   ]
  },
  {
   "cell_type": "code",
   "execution_count": 95,
   "metadata": {
    "collapsed": false,
    "problem": "Exercise 6.8"
   },
   "outputs": [],
   "source": [
    "'''\n",
    "    >>> gcd(12,16)\n",
    "    4\n",
    "    >>> gcd(33,22)\n",
    "    11'''\n",
    "\n",
    "def gcd(a,b):\n",
    "    remaindera= a % b\n",
    "    remainderb= b % a\n",
    "    gcd=1\n",
    "    small=min(a,b)\n",
    "    for c in range (1,small):\n",
    "        remaindera= a % c\n",
    "        remainderb= b % c\n",
    "        if remaindera == 0 and remainderb == 0:\n",
    "            gcd=c\n",
    "    return gcd\n",
    "    \n",
    "if __name__ == \"__main__\":\n",
    "    import doctest\n",
    "    doctest.testmod()"
   ]
  },
  {
   "cell_type": "markdown",
   "metadata": {},
   "source": [
    "## Reading Journal feedback\n",
    "\n",
    "Have any comments on this Reading Journal? Feel free to leave them below and we'll read them when you submit your journal entry. This could include suggestions to improve the exercises, topics you'd like to see covered in class next time, or other feedback.\n",
    "\n",
    "If you have Python questions or run into problems while completing the reading, you should post them to Piazza instead so you can get a quick response before your journal is submitted."
   ]
  },
  {
   "cell_type": "markdown",
   "metadata": {
    "feedback_response": true
   },
   "source": [
    " "
   ]
  }
 ],
 "metadata": {
  "kernelspec": {
   "display_name": "Python 2",
   "language": "python",
   "name": "python2"
  },
  "language_info": {
   "codemirror_mode": {
    "name": "ipython",
    "version": 2
   },
   "file_extension": ".py",
   "mimetype": "text/x-python",
   "name": "python",
   "nbconvert_exporter": "python",
   "pygments_lexer": "ipython2",
   "version": "2.7.6"
  }
 },
 "nbformat": 4,
 "nbformat_minor": 0
}
